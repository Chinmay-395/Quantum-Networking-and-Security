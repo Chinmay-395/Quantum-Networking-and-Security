{
 "cells": [
  {
   "cell_type": "code",
   "execution_count": 4,
   "metadata": {},
   "outputs": [
    {
     "ename": "ImportError",
     "evalue": "cannot import name 'ProviderV1' from 'qiskit.providers' (unknown location)",
     "output_type": "error",
     "traceback": [
      "\u001b[0;31m---------------------------------------------------------------------------\u001b[0m",
      "\u001b[0;31mImportError\u001b[0m                               Traceback (most recent call last)",
      "Cell \u001b[0;32mIn[4], line 5\u001b[0m\n\u001b[1;32m      1\u001b[0m \u001b[38;5;66;03m# from qiskit import QuantumRegister, QuantumCircuit, Aer, transpile, assemble\u001b[39;00m\n\u001b[1;32m      2\u001b[0m \u001b[38;5;66;03m# from qiskit.visualization import plot_histogram\u001b[39;00m\n\u001b[1;32m      3\u001b[0m \u001b[38;5;66;03m# from qiskit.quantum_info import random_statevector\u001b[39;00m\n\u001b[1;32m      4\u001b[0m \u001b[38;5;66;03m# from qiskit import *\u001b[39;00m\n\u001b[0;32m----> 5\u001b[0m \u001b[38;5;28;01mfrom\u001b[39;00m \u001b[38;5;21;01mqiskit_aer\u001b[39;00m \u001b[38;5;28;01mimport\u001b[39;00m Aer, ClassicalRegister, QuantumCircuit, QuantumRegister\n\u001b[1;32m      7\u001b[0m \u001b[38;5;66;03m# initialize 3-qubit circuit with named registers\u001b[39;00m\n\u001b[1;32m      8\u001b[0m q0 \u001b[38;5;241m=\u001b[39m QuantumRegister(\u001b[38;5;241m1\u001b[39m, name\u001b[38;5;241m=\u001b[39m\u001b[38;5;124m\"\u001b[39m\u001b[38;5;124mq0\u001b[39m\u001b[38;5;124m\"\u001b[39m) \u001b[38;5;66;03m# Olivia's source qubit to teleport\u001b[39;00m\n",
      "File \u001b[0;32m~/anaconda3/envs/quantum/lib/python3.11/site-packages/qiskit_aer/__init__.py:70\u001b[0m\n\u001b[1;32m     66\u001b[0m     np\u001b[38;5;241m.\u001b[39mdot(np\u001b[38;5;241m.\u001b[39mzeros(\u001b[38;5;241m100\u001b[39m), np\u001b[38;5;241m.\u001b[39mzeros(\u001b[38;5;241m100\u001b[39m))\n\u001b[1;32m     67\u001b[0m \u001b[38;5;66;03m# ... ¯\\_(ツ)_/¯\u001b[39;00m\n\u001b[1;32m     68\u001b[0m \n\u001b[1;32m     69\u001b[0m \u001b[38;5;66;03m# pylint: disable=wrong-import-position\u001b[39;00m\n\u001b[0;32m---> 70\u001b[0m \u001b[38;5;28;01mfrom\u001b[39;00m \u001b[38;5;21;01mqiskit_aer\u001b[39;00m\u001b[38;5;21;01m.\u001b[39;00m\u001b[38;5;21;01maerprovider\u001b[39;00m \u001b[38;5;28;01mimport\u001b[39;00m AerProvider\n\u001b[1;32m     71\u001b[0m \u001b[38;5;28;01mfrom\u001b[39;00m \u001b[38;5;21;01mqiskit_aer\u001b[39;00m\u001b[38;5;21;01m.\u001b[39;00m\u001b[38;5;21;01mjobs\u001b[39;00m \u001b[38;5;28;01mimport\u001b[39;00m AerJob, AerJobSet\n\u001b[1;32m     72\u001b[0m \u001b[38;5;28;01mfrom\u001b[39;00m \u001b[38;5;21;01mqiskit_aer\u001b[39;00m\u001b[38;5;21;01m.\u001b[39;00m\u001b[38;5;21;01maererror\u001b[39;00m \u001b[38;5;28;01mimport\u001b[39;00m AerError\n",
      "File \u001b[0;32m~/anaconda3/envs/quantum/lib/python3.11/site-packages/qiskit_aer/aerprovider.py:18\u001b[0m\n\u001b[1;32m     14\u001b[0m \u001b[38;5;124;03m\"\"\"Provider for Qiskit Aer backends.\"\"\"\u001b[39;00m\n\u001b[1;32m     16\u001b[0m \u001b[38;5;28;01mimport\u001b[39;00m \u001b[38;5;21;01mwarnings\u001b[39;00m\n\u001b[0;32m---> 18\u001b[0m \u001b[38;5;28;01mfrom\u001b[39;00m \u001b[38;5;21;01mqiskit\u001b[39;00m\u001b[38;5;21;01m.\u001b[39;00m\u001b[38;5;21;01mproviders\u001b[39;00m \u001b[38;5;28;01mimport\u001b[39;00m ProviderV1 \u001b[38;5;28;01mas\u001b[39;00m Provider\n\u001b[1;32m     19\u001b[0m \u001b[38;5;28;01mfrom\u001b[39;00m \u001b[38;5;21;01mqiskit\u001b[39;00m\u001b[38;5;21;01m.\u001b[39;00m\u001b[38;5;21;01mproviders\u001b[39;00m\u001b[38;5;21;01m.\u001b[39;00m\u001b[38;5;21;01mproviderutils\u001b[39;00m \u001b[38;5;28;01mimport\u001b[39;00m filter_backends\n\u001b[1;32m     21\u001b[0m \u001b[38;5;28;01mfrom\u001b[39;00m \u001b[38;5;21;01m.\u001b[39;00m\u001b[38;5;21;01mbackends\u001b[39;00m\u001b[38;5;21;01m.\u001b[39;00m\u001b[38;5;21;01maer_simulator\u001b[39;00m \u001b[38;5;28;01mimport\u001b[39;00m AerSimulator\n",
      "\u001b[0;31mImportError\u001b[0m: cannot import name 'ProviderV1' from 'qiskit.providers' (unknown location)"
     ]
    }
   ],
   "source": [
    "# from qiskit import QuantumRegister, QuantumCircuit, Aer, transpile, assemble\n",
    "# from qiskit.visualization import plot_histogram\n",
    "# from qiskit.quantum_info import random_statevector\n",
    "# from qiskit import *\n",
    "from qiskit_aer import Aer, ClassicalRegister, QuantumCircuit, QuantumRegister\n",
    "\n",
    "# initialize 3-qubit circuit with named registers\n",
    "q0 = QuantumRegister(1, name=\"q0\") # Olivia's source qubit to teleport\n",
    "q1 = QuantumRegister(1, name=\"q1\") # middle qubit sent to Olivia (half of Bell state pair)\n",
    "q2 = QuantumRegister(1, name=\"q2\") # Barron's destination qubit (half of Bell state pair)\n",
    "\n",
    "crz = ClassicalRegister(1, name=\"crz\") # Olivia's measurement of her source qubit\n",
    "crx = ClassicalRegister(1, name=\"crx\") # Olivia's measurement of middle qubit (half of Bell state pair)\n",
    "\n",
    "circuit = QuantumCircuit(q0, q1, q2, crz, crx)\n",
    "\n",
    "# initialize Olivia's qubit (quantum state to teleport)\n",
    "# circuit.x(0)\n",
    "# circuit.barrier()\n",
    "\n",
    "# create Bell state pair\n",
    "circuit.h(q1)\n",
    "circuit.cx(q1, q2)\n",
    "circuit.barrier()\n",
    "\n",
    "# Olivia performs Bell state measurement\n",
    "circuit.cx(q0, q1)\n",
    "circuit.h(q0)\n",
    "circuit.barrier()\n",
    "circuit.measure(q0, crz)\n",
    "circuit.measure(q1, crx)\n",
    "circuit.barrier()\n",
    "\n",
    "# Barron transforms his qubit based on measurement results\n",
    "circuit.x(q2).c_if(crx, 1)  # apply X gate if cr_x is 1\n",
    "circuit.z(q2).c_if(crz, 1)  # apply Z gate if cr_z is 1\n",
    "\n",
    "circuit.draw(output='mpl')"
   ]
  },
  {
   "cell_type": "code",
   "execution_count": null,
   "metadata": {},
   "outputs": [],
   "source": [
    "# add final measurement of Barron's qubit\n",
    "cr_result = ClassicalRegister(1, name=\"result\")\n",
    "circuit.barrier()\n",
    "circuit.add_register(cr_result)\n",
    "circuit.measure(2, 2)\n",
    "circuit.draw(output='mpl')"
   ]
  },
  {
   "cell_type": "code",
   "execution_count": null,
   "metadata": {},
   "outputs": [],
   "source": [
    "from qiskit import *\n",
    "from qiskit.tools.visualization import plot_histogram\n",
    "simulator = Aer.get_backend('qasm_simulator')\n",
    "# transpile our circuit for the selected backend\n",
    "\n",
    "result = execute(circuit, backend=simulator, shots=1000).result()\n",
    "counts = result.get_counts()\n",
    "plot_histogram(counts)"
   ]
  },
  {
   "cell_type": "code",
   "execution_count": null,
   "metadata": {},
   "outputs": [],
   "source": [
    "from qiskit_ibm_provider import IBMProvider\n",
    "from qiskit.tools.monitor import *\n",
    "IBMQ.load_account()\n",
    "provider = IBMQ.get_provider(hub='ibm-q', group='open', project='main')\n",
    "backend = provider.get_backend('ibm_brisbane')\n",
    "job = execute(circuit, backend=backend, shots=1000)\n",
    "job_monitor(job)\n",
    "results1 = job.result()"
   ]
  },
  {
   "cell_type": "code",
   "execution_count": null,
   "metadata": {},
   "outputs": [],
   "source": [
    "# Let us see the counts\n",
    "print(counts)"
   ]
  },
  {
   "cell_type": "code",
   "execution_count": null,
   "metadata": {},
   "outputs": [],
   "source": [
    "from qiskit import IBMQ,execute\n",
    "\n",
    "# This step is for first time users.\n",
    "IBMQ.save_account('8d9fd4cfb1139b39e920a5e17a2d932dcf89a73f3c9441d31cf617139f3cb47ac4eb912c2ada92145a2c9bef7d5c22ca825b5cbe3a6590b599bbce8872f1d216')\n",
    "# For this token, visit https://quantum-computing.ibm.com/ create an account with any email id\n",
    "# and login to view the token and copy it."
   ]
  },
  {
   "cell_type": "code",
   "execution_count": null,
   "metadata": {},
   "outputs": [],
   "source": [
    "# This step is after you have created and saved your account.\n",
    "IBMQ.load_account()\n",
    "\n",
    "# To view all the poviders\n",
    "\n",
    "print([backend.name() for backend in IBMQ.providers()[0].backends()])"
   ]
  },
  {
   "cell_type": "code",
   "execution_count": null,
   "metadata": {},
   "outputs": [],
   "source": [
    "from qiskit_ibm_provider import IBMProvider\n",
    "from qiskit.tools.monitor import *\n",
    "IBMQ.load_account()\n",
    "provider = IBMQ.get_provider(hub='ibm-q', group='open', project='main')\n",
    "backend = provider.get_backend('ibm_lagos')\n",
    "job = execute(circuit, backend=backend, shots=1024)\n",
    "job_monitor(job)\n",
    "results1 = job.result() "
   ]
  },
  {
   "cell_type": "code",
   "execution_count": 10,
   "metadata": {},
   "outputs": [
    {
     "name": "stdout",
     "output_type": "stream",
     "text": [
      "Requirement already satisfied: qiskit in /home/chinmay/anaconda3/envs/quantum/lib/python3.11/site-packages (0.44.1)\n",
      "Requirement already satisfied: qiskit-terra==0.25.1 in /home/chinmay/anaconda3/envs/quantum/lib/python3.11/site-packages (from qiskit) (0.25.1)\n",
      "Requirement already satisfied: rustworkx>=0.13.0 in /home/chinmay/anaconda3/envs/quantum/lib/python3.11/site-packages (from qiskit-terra==0.25.1->qiskit) (0.14.0)\n",
      "Requirement already satisfied: numpy>=1.17 in /home/chinmay/anaconda3/envs/quantum/lib/python3.11/site-packages (from qiskit-terra==0.25.1->qiskit) (1.23.5)\n",
      "Requirement already satisfied: ply>=3.10 in /home/chinmay/anaconda3/envs/quantum/lib/python3.11/site-packages (from qiskit-terra==0.25.1->qiskit) (3.11)\n",
      "Requirement already satisfied: psutil>=5 in /home/chinmay/anaconda3/envs/quantum/lib/python3.11/site-packages (from qiskit-terra==0.25.1->qiskit) (5.9.8)\n",
      "Requirement already satisfied: scipy>=1.5 in /home/chinmay/anaconda3/envs/quantum/lib/python3.11/site-packages (from qiskit-terra==0.25.1->qiskit) (1.12.0)\n",
      "Requirement already satisfied: sympy>=1.3 in /home/chinmay/anaconda3/envs/quantum/lib/python3.11/site-packages (from qiskit-terra==0.25.1->qiskit) (1.12)\n",
      "Requirement already satisfied: dill>=0.3 in /home/chinmay/anaconda3/envs/quantum/lib/python3.11/site-packages (from qiskit-terra==0.25.1->qiskit) (0.3.7)\n",
      "Requirement already satisfied: python-dateutil>=2.8.0 in /home/chinmay/anaconda3/envs/quantum/lib/python3.11/site-packages (from qiskit-terra==0.25.1->qiskit) (2.8.2)\n",
      "Requirement already satisfied: stevedore>=3.0.0 in /home/chinmay/anaconda3/envs/quantum/lib/python3.11/site-packages (from qiskit-terra==0.25.1->qiskit) (5.1.0)\n",
      "Requirement already satisfied: symengine<0.10,>=0.9 in /home/chinmay/anaconda3/envs/quantum/lib/python3.11/site-packages (from qiskit-terra==0.25.1->qiskit) (0.9.2)\n",
      "Requirement already satisfied: six>=1.5 in /home/chinmay/anaconda3/envs/quantum/lib/python3.11/site-packages (from python-dateutil>=2.8.0->qiskit-terra==0.25.1->qiskit) (1.16.0)\n",
      "Requirement already satisfied: pbr!=2.1.0,>=2.0.0 in /home/chinmay/anaconda3/envs/quantum/lib/python3.11/site-packages (from stevedore>=3.0.0->qiskit-terra==0.25.1->qiskit) (6.0.0)\n",
      "Requirement already satisfied: mpmath>=0.19 in /home/chinmay/anaconda3/envs/quantum/lib/python3.11/site-packages (from sympy>=1.3->qiskit-terra==0.25.1->qiskit) (1.3.0)\n",
      "Note: you may need to restart the kernel to use updated packages.\n"
     ]
    }
   ],
   "source": [
    "pip install qiskit"
   ]
  },
  {
   "cell_type": "code",
   "execution_count": 2,
   "metadata": {},
   "outputs": [
    {
     "name": "stdout",
     "output_type": "stream",
     "text": [
      "anyio==4.2.0\n",
      "argon2-cffi==23.1.0\n",
      "argon2-cffi-bindings==21.2.0\n",
      "arrow==1.3.0\n",
      "asttokens==2.4.1\n",
      "async-lru==2.0.4\n",
      "attrs==23.2.0\n",
      "Babel==2.14.0\n",
      "beautifulsoup4==4.12.3\n",
      "bleach==6.1.0\n",
      "certifi==2023.11.17\n",
      "cffi==1.16.0\n",
      "charset-normalizer==3.3.2\n",
      "comm==0.2.1\n",
      "contourpy==1.2.0\n",
      "cryptography==42.0.1\n",
      "cycler==0.12.1\n",
      "debugpy==1.8.0\n",
      "decorator==5.1.1\n",
      "defusedxml==0.7.1\n",
      "dill==0.3.7\n",
      "executing==2.0.1\n",
      "fastjsonschema==2.19.1\n",
      "fonttools==4.47.2\n",
      "fqdn==1.5.1\n",
      "idna==3.6\n",
      "ipykernel==6.29.0\n",
      "ipython==8.20.0\n",
      "ipywidgets==8.1.1\n",
      "isoduration==20.11.0\n",
      "jedi==0.19.1\n",
      "Jinja2==3.1.3\n",
      "json5==0.9.14\n",
      "jsonpointer==2.4\n",
      "jsonschema==4.21.1\n",
      "jsonschema-specifications==2023.12.1\n",
      "jupyter-events==0.9.0\n",
      "jupyter-lsp==2.2.2\n",
      "jupyter_client==8.6.0\n",
      "jupyter_core==5.7.1\n",
      "jupyter_server==2.12.5\n",
      "jupyter_server_terminals==0.5.2\n",
      "jupyterlab==4.0.11\n",
      "jupyterlab-widgets==3.0.9\n",
      "jupyterlab_pygments==0.3.0\n",
      "jupyterlab_server==2.25.2\n",
      "kiwisolver==1.4.5\n",
      "MarkupSafe==2.1.4\n",
      "matplotlib==3.8.2\n",
      "matplotlib-inline==0.1.6\n",
      "mistune==3.0.2\n",
      "mpmath==1.3.0\n",
      "nbclient==0.9.0\n",
      "nbconvert==7.14.2\n",
      "nbformat==5.9.2\n",
      "nest-asyncio==1.6.0\n",
      "notebook==7.0.7\n",
      "notebook_shim==0.2.3\n",
      "ntlm-auth==1.5.0\n",
      "numpy==1.23.5\n",
      "overrides==7.6.0\n",
      "packaging==23.2\n",
      "pandas==2.2.0\n",
      "pandocfilters==1.5.1\n",
      "parso==0.8.3\n",
      "pbr==6.0.0\n",
      "pexpect==4.9.0\n",
      "pillow==10.2.0\n",
      "platformdirs==4.1.0\n",
      "ply==3.11\n",
      "prometheus-client==0.19.0\n",
      "prompt-toolkit==3.0.43\n",
      "psutil==5.9.8\n",
      "ptyprocess==0.7.0\n",
      "pure-eval==0.2.2\n",
      "pycparser==2.21\n",
      "pydot==2.0.0\n",
      "Pygments==2.17.2\n",
      "pylatexenc==2.10\n",
      "pyparsing==3.1.1\n",
      "python-dateutil==2.8.2\n",
      "python-json-logger==2.0.7\n",
      "pytz==2023.3.post1\n",
      "PyYAML==6.0.1\n",
      "pyzmq==25.1.2\n",
      "qiskit==0.44.1\n",
      "qiskit-aer==0.12.2\n",
      "qiskit-ibm-provider==0.10.0\n",
      "qiskit-ibmq-provider==0.20.2\n",
      "qiskit-terra==0.25.1\n",
      "referencing==0.32.1\n",
      "requests==2.31.0\n",
      "requests-ntlm==1.1.0\n",
      "rfc3339-validator==0.1.4\n",
      "rfc3986-validator==0.1.1\n",
      "rise==5.7.1\n",
      "rpds-py==0.17.1\n",
      "rustworkx==0.14.0\n",
      "scipy==1.12.0\n",
      "seaborn==0.13.2\n",
      "Send2Trash==1.8.2\n",
      "six==1.16.0\n",
      "sniffio==1.3.0\n",
      "soupsieve==2.5\n",
      "stack-data==0.6.3\n",
      "stevedore==5.1.0\n",
      "symengine==0.9.2\n",
      "sympy==1.12\n",
      "terminado==0.18.0\n",
      "tinycss2==1.2.1\n",
      "tornado==6.4\n",
      "traitlets==5.14.1\n",
      "types-python-dateutil==2.8.19.20240106\n",
      "typing_extensions==4.11.0\n",
      "tzdata==2023.4\n",
      "uri-template==1.3.0\n",
      "urllib3==2.1.0\n",
      "wcwidth==0.2.13\n",
      "webcolors==1.13\n",
      "webencodings==0.5.1\n",
      "websocket-client==1.7.0\n",
      "websockets==12.0\n",
      "widgetsnbextension==4.0.9\n",
      "Note: you may need to restart the kernel to use updated packages.\n"
     ]
    }
   ],
   "source": [
    "pip freeze"
   ]
  },
  {
   "cell_type": "code",
   "execution_count": null,
   "metadata": {},
   "outputs": [],
   "source": []
  }
 ],
 "metadata": {
  "kernelspec": {
   "display_name": "quantum",
   "language": "python",
   "name": "python3"
  },
  "language_info": {
   "codemirror_mode": {
    "name": "ipython",
    "version": 3
   },
   "file_extension": ".py",
   "mimetype": "text/x-python",
   "name": "python",
   "nbconvert_exporter": "python",
   "pygments_lexer": "ipython3",
   "version": "3.11.7"
  }
 },
 "nbformat": 4,
 "nbformat_minor": 2
}
