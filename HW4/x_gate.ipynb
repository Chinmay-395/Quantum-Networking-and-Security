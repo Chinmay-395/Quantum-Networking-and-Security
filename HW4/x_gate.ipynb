{
 "cells": [
  {
   "cell_type": "code",
   "execution_count": 2,
   "id": "1de7f490",
   "metadata": {},
   "outputs": [],
   "source": [
    "# Importing Qiskit\n",
    "from qiskit import QuantumRegister, ClassicalRegister, QuantumCircuit"
   ]
  },
  {
   "cell_type": "code",
   "execution_count": 3,
   "id": "73e88a65",
   "metadata": {},
   "outputs": [],
   "source": [
    "# Creating Quantum and Classical Registers\n",
    "# This is another method to create registers.\n",
    "quantum_register= QuantumRegister(1)\n",
    "classical_register= ClassicalRegister(1)"
   ]
  },
  {
   "cell_type": "code",
   "execution_count": 14,
   "id": "6535a078",
   "metadata": {},
   "outputs": [],
   "source": [
    "# Creating a Quantum Circuit\n",
    "quantum_circuit= QuantumCircuit(quantum_register, classical_register)"
   ]
  },
  {
   "cell_type": "code",
   "execution_count": 15,
   "id": "251ac6d6",
   "metadata": {},
   "outputs": [
    {
     "data": {
      "image/png": "[encoded data removed]",
      "text/plain": [
       "<Figure size 161.878x200.667 with 1 Axes>"
      ]
     },
     "execution_count": 15,
     "metadata": {},
     "output_type": "execute_result"
    }
   ],
   "source": [
    "# To view the circuit\n",
    "quantum_circuit.draw(output='mpl')"
   ]
  },
  {
   "cell_type": "code",
   "execution_count": 16,
   "id": "9c0aeaf6",
   "metadata": {},
   "outputs": [
    {
     "data": {
      "image/png": "[encoded data removed]",
      "text/plain": [
       "<Figure size 203.683x200.667 with 1 Axes>"
      ]
     },
     "execution_count": 16,
     "metadata": {},
     "output_type": "execute_result"
    }
   ],
   "source": [
    "# Adding X Gate to the circuit\n",
    "# The 0 indicates the 'q0' register\n",
    "quantum_circuit.x(0)\n",
    "\n",
    "# Draw the circuit again\n",
    "quantum_circuit.draw(output='mpl')"
   ]
  },
  {
   "cell_type": "code",
   "execution_count": 17,
   "id": "52dc95aa",
   "metadata": {},
   "outputs": [
    {
     "data": {
      "image/png": "[encoded data removed]",
      "text/plain": [
       "<Figure size 287.294x200.667 with 1 Axes>"
      ]
     },
     "execution_count": 17,
     "metadata": {},
     "output_type": "execute_result"
    }
   ],
   "source": [
    "# Now we have to measure this to see how the gate works\n",
    "# 0,0 defines quantum register 0 (q0) to classical register 0 (c0)\n",
    "# If you use measure_all() you will no longer need the classical register.\n",
    "quantum_circuit.measure(0,0)\n",
    "quantum_circuit.draw(output='mpl')"
   ]
  },
  {
   "cell_type": "code",
   "execution_count": 18,
   "id": "7a878c9e",
   "metadata": {},
   "outputs": [
    {
     "name": "stdout",
     "output_type": "stream",
     "text": [
      "Result(backend_name='qasm_simulator', backend_version='0.12.2', qobj_id='', job_id='80519f61-671a-41fd-afb9-7a84dbce0cbf', success=True, results=[ExperimentResult(shots=1024, success=True, meas_level=2, data=ExperimentResultData(counts={'0x1': 1024}), header=QobjExperimentHeader(creg_sizes=[['c1', 1]], global_phase=0.0, memory_slots=1, n_qubits=1, name='circuit-122', qreg_sizes=[['q1', 1]], metadata={}), status=DONE, seed_simulator=4251673152, metadata={'noise': 'ideal', 'batched_shots_optimization': False, 'measure_sampling': True, 'parallel_shots': 1, 'remapped_qubits': False, 'active_input_qubits': [0], 'num_clbits': 1, 'parallel_state_update': 8, 'sample_measure_time': 0.000489439, 'num_qubits': 1, 'device': 'CPU', 'input_qubit_map': [[0, 0]], 'method': 'stabilizer', 'fusion': {'enabled': False}}, time_taken=0.002426237)], date=2024-02-12T11:15:52.967597, status=COMPLETED, header=None, metadata={'time_taken_execute': 0.002487503, 'mpi_rank': 0, 'num_mpi_processes': 1, 'max_gpu_memory_mb': 0, 'max_memory_mb': 23719, 'parallel_experiments': 1, 'num_processes_per_experiments': 1, 'omp_enabled': True}, time_taken=0.0031964778900146484)\n"
     ]
    }
   ],
   "source": [
    "# As we can see, the circuit now has a X Gate. We can now measure the qubit at the quantum register.\n",
    "# For this we have two methods, AER(quantum computer simulator) and IBM (IBM's quantum computer)\n",
    "from qiskit.providers.aer import QasmSimulator\n",
    "backend= QasmSimulator()\n",
    "job = backend.run(quantum_circuit,shots=1024)\n",
    "result = job.result()\n",
    "# You will get a huge result, but we only care about the 'counts'\n",
    "print(result)"
   ]
  },
  {
   "cell_type": "code",
   "execution_count": 19,
   "id": "c0d7ca22",
   "metadata": {},
   "outputs": [
    {
     "data": {
      "image/png": "[encoded data removed]",
      "text/plain": [
       "<Figure size 700x500 with 1 Axes>"
      ]
     },
     "execution_count": 19,
     "metadata": {},
     "output_type": "execute_result"
    }
   ],
   "source": [
    "# We can plot a histogram to see the count values\n",
    "from qiskit.visualization import plot_histogram\n",
    "# This line of code below illustrates how to get counts from the output. \n",
    "#Note that you need to give the circuit name.\n",
    "counts = result.get_counts(quantum_circuit)\n",
    "plot_histogram(counts)"
   ]
  },
  {
   "cell_type": "code",
   "execution_count": 1,
   "id": "5b3c9508",
   "metadata": {},
   "outputs": [
    {
     "ename": "NameError",
     "evalue": "name 'counts' is not defined",
     "output_type": "error",
     "traceback": [
      "\u001b[0;31m---------------------------------------------------------------------------\u001b[0m",
      "\u001b[0;31mNameError\u001b[0m                                 Traceback (most recent call last)",
      "Cell \u001b[0;32mIn[1], line 2\u001b[0m\n\u001b[1;32m      1\u001b[0m \u001b[38;5;66;03m# Let us see the counts\u001b[39;00m\n\u001b[0;32m----> 2\u001b[0m \u001b[38;5;28mprint\u001b[39m(\u001b[43mcounts\u001b[49m)\n",
      "\u001b[0;31mNameError\u001b[0m: name 'counts' is not defined"
     ]
    }
   ],
   "source": [
    "# Let us see the counts\n",
    "print(counts)"
   ]
  },
  {
   "cell_type": "code",
   "execution_count": 21,
   "id": "320fc7f1",
   "metadata": {},
   "outputs": [],
   "source": [
    "# All the tries have turned out to be 1, so the X Gate worked. The input 0 is turned into 1."
   ]
  },
  {
   "cell_type": "markdown",
   "id": "0c4940a6",
   "metadata": {},
   "source": [
    "<h2>Now let us see the working of this circuit on a real quantum machine. <br/>\n",
    "Note: You need to create an IBMQ account before proceeding.</h2>"
   ]
  },
  {
   "cell_type": "code",
   "execution_count": 22,
   "id": "bd6a66b1",
   "metadata": {},
   "outputs": [],
   "source": [
    "from qiskit import IBMQ,execute\n",
    "# IBMQ.save_account('53aa1f4f9c13786efaba1153a4bbd7b8f26d318b09e99f09f37cf2ae0583c95e9cd7d780433ea88a591d6597e5f6fbc2c1255dc7342069a9fefe6a6beafd3bd8')\n",
    "# This step is for first time users.\n",
    "# 'IBMQ.save_account(TOKEN)'\n",
    "# For this token, visit https://quantum-computing.ibm.com/ create an account with any email id\n",
    "# and login to view the token and copy it."
   ]
  },
  {
   "cell_type": "code",
   "execution_count": 23,
   "id": "4a7d9ec8",
   "metadata": {},
   "outputs": [
    {
     "name": "stderr",
     "output_type": "stream",
     "text": [
      "/tmp/ipykernel_292621/2467840673.py:2: DeprecationWarning: The package qiskit.providers.ibmq is being deprecated. Please see https://ibm.biz/provider_migration_guide to get instructions on how to migrate to qiskit-ibm-provider (https://github.com/Qiskit/qiskit-ibm-provider) and qiskit-ibm-runtime (https://github.com/Qiskit/qiskit-ibm-runtime).\n",
      "  IBMQ.load_account()\n",
      "/tmp/ipykernel_292621/2467840673.py:2: DeprecationWarning: The qiskit.IBMQ entrypoint and the qiskit-ibmq-provider package (accessible from 'qiskit.providers.ibmq`) are deprecated and will be removed in a future release. Instead you should use the qiskit-ibm-provider package which is accessible from 'qiskit_ibm_provider'. You can install it with 'pip install qiskit_ibm_provider'. Just replace 'qiskit.IBMQ' with 'qiskit_ibm_provider.IBMProvider'\n",
      "  IBMQ.load_account()\n"
     ]
    },
    {
     "name": "stdout",
     "output_type": "stream",
     "text": [
      "['ibmq_qasm_simulator', 'simulator_statevector', 'simulator_mps', 'simulator_extended_stabilizer', 'simulator_stabilizer', 'ibm_brisbane', 'ibm_kyoto', 'ibm_osaka']\n"
     ]
    }
   ],
   "source": [
    "# This step is after you have created and saved your account.\n",
    "IBMQ.load_account()\n",
    "\n",
    "# To view all the poviders\n",
    "\n",
    "print([backend.name() for backend in IBMQ.providers()[0].backends()])"
   ]
  },
  {
   "cell_type": "markdown",
   "id": "93569722",
   "metadata": {},
   "source": [
    "<h3>You can select from:<br/>\n",
    "ibmq_lima<br/>\n",
    "ibmq_belem<br/>\n",
    "ibmq_quito<br/>\n",
    "ibmq_manila</h3>"
   ]
  },
  {
   "cell_type": "code",
   "execution_count": 24,
   "id": "66407ae3",
   "metadata": {},
   "outputs": [
    {
     "name": "stdout",
     "output_type": "stream",
     "text": [
      "Job Status: job has successfully run\n"
     ]
    }
   ],
   "source": [
    "from qiskit.tools.monitor import job_monitor\n",
    "provider = IBMQ.get_provider(hub = 'ibm-q',group = 'open',project='main')\n",
    "backend = provider.get_backend('ibm_brisbane')\n",
    "job = execute(quantum_circuit, backend=backend, shots=1000 )\n",
    "job_monitor(job)\n",
    "results = job.result()"
   ]
  },
  {
   "cell_type": "code",
   "execution_count": 25,
   "id": "3fe0cb86",
   "metadata": {},
   "outputs": [
    {
     "data": {
      "image/png": "[encoded data removed]",
      "text/plain": [
       "<Figure size 700x500 with 1 Axes>"
      ]
     },
     "execution_count": 25,
     "metadata": {},
     "output_type": "execute_result"
    }
   ],
   "source": [
    "# Plot histogram of the outputs recieved.\n",
    "counts = results.get_counts(quantum_circuit)\n",
    "plot_histogram(counts)"
   ]
  },
  {
   "cell_type": "code",
   "execution_count": null,
   "id": "5a2a40b7",
   "metadata": {},
   "outputs": [],
   "source": []
  }
 ],
 "metadata": {
  "interpreter": {
   "hash": "37a42aaa31cc67f1bd04bce9cdd9af29f0bea779c6cd9677f08a81b83d4d2488"
  },
  "kernelspec": {
   "display_name": "Python 3 (ipykernel)",
   "language": "python",
   "name": "python3"
  },
  "language_info": {
   "codemirror_mode": {
    "name": "ipython",
    "version": 3
   },
   "file_extension": ".py",
   "mimetype": "text/x-python",
   "name": "python",
   "nbconvert_exporter": "python",
   "pygments_lexer": "ipython3",
   "version": "3.11.7"
  }
 },
 "nbformat": 4,
 "nbformat_minor": 5
}
