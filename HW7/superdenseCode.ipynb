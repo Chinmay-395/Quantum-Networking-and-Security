{
 "cells": [
  {
   "cell_type": "code",
   "execution_count": 1,
   "metadata": {},
   "outputs": [
    {
     "ename": "NameError",
     "evalue": "name 'IBMQ' is not defined",
     "output_type": "error",
     "traceback": [
      "\u001b[0;31m---------------------------------------------------------------------------\u001b[0m",
      "\u001b[0;31mNameError\u001b[0m                                 Traceback (most recent call last)",
      "Cell \u001b[0;32mIn[1], line 1\u001b[0m\n\u001b[0;32m----> 1\u001b[0m \u001b[43mIBMQ\u001b[49m\u001b[38;5;241m.\u001b[39menable_account(\u001b[38;5;124m'\u001b[39m\u001b[38;5;124m8d9fd4cfb1139b39e920a5e17a2d932dcf89a73f3c9441d31cf617139f3cb47ac4eb912c2ada92145a2c9bef7d5c22ca825b5cbe3a6590b599bbce8872f1d216\u001b[39m\u001b[38;5;124m'\u001b[39m)\n",
      "\u001b[0;31mNameError\u001b[0m: name 'IBMQ' is not defined"
     ]
    }
   ],
   "source": []
  },
  {
   "cell_type": "code",
   "execution_count": 2,
   "metadata": {},
   "outputs": [
    {
     "name": "stdout",
     "output_type": "stream",
     "text": [
      "\n",
      " Superdense Coding\n",
      "--------------------------\n",
      "\n"
     ]
    },
    {
     "name": "stderr",
     "output_type": "stream",
     "text": [
      "/tmp/ipykernel_14643/2358201226.py:7: DeprecationWarning: The package qiskit.providers.ibmq is being deprecated. Please see https://ibm.biz/provider_migration_guide to get instructions on how to migrate to qiskit-ibm-provider (https://github.com/Qiskit/qiskit-ibm-provider) and qiskit-ibm-runtime (https://github.com/Qiskit/qiskit-ibm-runtime).\n",
      "  IBMQ.enable_account('8d9fd4cfb1139b39e920a5e17a2d932dcf89a73f3c9441d31cf617139f3cb47ac4eb912c2ada92145a2c9bef7d5c22ca825b5cbe3a6590b599bbce8872f1d216')\n",
      "/tmp/ipykernel_14643/2358201226.py:7: DeprecationWarning: The qiskit.IBMQ entrypoint and the qiskit-ibmq-provider package (accessible from 'qiskit.providers.ibmq`) are deprecated and will be removed in a future release. Instead you should use the qiskit-ibm-provider package which is accessible from 'qiskit_ibm_provider'. You can install it with 'pip install qiskit_ibm_provider'. Just replace 'qiskit.IBMQ' with 'qiskit_ibm_provider.IBMProvider'\n",
      "  IBMQ.enable_account('8d9fd4cfb1139b39e920a5e17a2d932dcf89a73f3c9441d31cf617139f3cb47ac4eb912c2ada92145a2c9bef7d5c22ca825b5cbe3a6590b599bbce8872f1d216')\n"
     ]
    },
    {
     "name": "stdout",
     "output_type": "stream",
     "text": [
      "Provider:  ibmq_qasm_simulator\n",
      "Something went wrong\n"
     ]
    },
    {
     "data": {
      "image/png": "[encoded data removed]",
      "text/plain": [
       "<Figure size 161.878x284.278 with 1 Axes>"
      ]
     },
     "execution_count": 2,
     "metadata": {},
     "output_type": "execute_result"
    }
   ],
   "source": [
    "print('\\n Superdense Coding') \n",
    "print('--------------------------\\n')  \n",
    "from qiskit import QuantumRegister, ClassicalRegister, QuantumCircuit, execute,IBMQ \n",
    "from qiskit.tools.monitor import job_monitor  \n",
    "# from qiskit.tools.visualization import plot_bloch_multivector, plot_histogram\n",
    "import matplotlib.pyplot as plt\n",
    "IBMQ.enable_account('8d9fd4cfb1139b39e920a5e17a2d932dcf89a73f3c9441d31cf617139f3cb47ac4eb912c2ada92145a2c9bef7d5c22ca825b5cbe3a6590b599bbce8872f1d216')\n",
    "provider = IBMQ.get_provider(hub='ibm-q')  \n",
    "q = QuantumRegister(2,'q') \n",
    "c = ClassicalRegister(2,'c')  \n",
    "backend = provider.get_backend('ibmq_qasm_simulator') \n",
    "circuit = QuantumCircuit(q,c)   \n",
    "print('Provider: ',backend)  \n",
    "\n",
    "# print('Press any key to close') \n",
    "val = input(\"Input for 00 OR 01 OR 10 OR 11\")\n",
    "if val == '00':\n",
    "    ################### 00 ########################### \n",
    "    \n",
    "    circuit.h(q[0]) # Hadamard gate applied to q0 \n",
    "    circuit.cx(q[0],q[1]) # CNOT gate applied \n",
    "    circuit.cx(q[0],q[1])  \n",
    "    circuit.h(q[0])    \n",
    "    circuit.measure(q,c) # Qubits measured   \n",
    "    # circuit.draw(output='mpl')   \n",
    "    job = execute(circuit, backend, shots=10)                                 \n",
    "    print('Executing Job...\\n')                \n",
    "    job_monitor(job) \n",
    "    counts = job.result().get_counts()  \n",
    "    print('RESULT: ',counts,'\\n')  \n",
    "    # print(circuit.draw(output='mpl'))\n",
    "    # plt.show()\n",
    "elif val == '01':\n",
    "    ################### 10 ########################### \n",
    "    # circuit = QuantumCircuit(q,c)   \n",
    "    circuit.h(q[0]) \n",
    "    circuit.cx(q[0],q[1]) \n",
    "    circuit.x(q[0]) # X-gate applied \n",
    "    circuit.cx(q[0],q[1]) \n",
    "    circuit.h(q[0])  \n",
    "    circuit.measure(q,c)         \n",
    "    print('Executing Job...\\n')\n",
    "    job = execute(circuit, backend, shots=10)                                                    \n",
    "    job_monitor(job) \n",
    "    counts = job.result().get_counts()  \n",
    "    print('RESULT: ',counts,'\\n')  \n",
    "    # print(circuit.draw(output='mpl'))\n",
    "elif val == '10':\n",
    "    ################## 01 ########################### \n",
    "    # circuit = QuantumCircuit(q,c)   \n",
    "    circuit.h(q[0]) \n",
    "    circuit.cx(q[0],q[1]) \n",
    "    circuit.z(q[0]) # Z-gate applied to q0  \n",
    "    circuit.cx(q[0],q[1]) \n",
    "    circuit.h(q[0])  \n",
    "    circuit.measure(q,c)        \n",
    "    job = execute(circuit, backend, shots=10)\n",
    "    print('Executing Job...\\n')                \n",
    "    job_monitor(job) \n",
    "    counts = job.result().get_counts()  \n",
    "    print('RESULT: ',counts,'\\n')  \n",
    "    # print(circuit.draw(output='mpl'))\n",
    "\n",
    "elif val == '11':\n",
    "    #################### 11 ########################### \n",
    "    # circuit = QuantumCircuit(q,c)   \n",
    "    circuit.h(q[0]) \n",
    "    circuit.cx(q[0],q[1]) \n",
    "    circuit.z(q[0]) # Z-gate applied  \n",
    "    circuit.x(q[0]) # X-gate applied  \n",
    "    circuit.cx(q[0],q[1]) \n",
    "    circuit.h(q[0])  \n",
    "    circuit.measure(q,c)  \n",
    "    job = execute(circuit, backend, shots=10)                                 \n",
    "    print('Executing Job...\\n')                \n",
    "    job_monitor(job) \n",
    "    counts = job.result().get_counts()  \n",
    "    print('RESULT: ',counts,'\\n') \n",
    "    # print(circuit.draw(output='mpl'))\n",
    "    \n",
    "else:\n",
    "    print(\"Something went wrong\")\n",
    "\n",
    "circuit.draw(output='mpl')"
   ]
  },
  {
   "cell_type": "code",
   "execution_count": 10,
   "metadata": {},
   "outputs": [
    {
     "name": "stdout",
     "output_type": "stream",
     "text": [
      "\n",
      " Superdense Coding\n",
      "--------------------------\n",
      "\n",
      "Provider:  ibmq_qasm_simulator\n",
      "Executing Job...\n",
      "\n",
      "Job Status: job has successfully run\n",
      "RESULT:  {'00': 10} \n",
      "\n"
     ]
    },
    {
     "data": {
      "image/png": "[encoded data removed]",
      "text/plain": [
       "<Figure size 538.128x284.278 with 1 Axes>"
      ]
     },
     "execution_count": 10,
     "metadata": {},
     "output_type": "execute_result"
    }
   ],
   "source": [
    "print('\\n Superdense Coding') \n",
    "print('--------------------------\\n')  \n",
    "from qiskit import QuantumRegister, ClassicalRegister, QuantumCircuit, execute,IBMQ \n",
    "from qiskit.tools.monitor import job_monitor  \n",
    "# from qiskit.tools.visualization import plot_bloch_multivector, plot_histogram\n",
    "import matplotlib.pyplot as plt\n",
    "provider = IBMQ.get_provider(hub='ibm-q')  \n",
    "q = QuantumRegister(2,'q') \n",
    "c = ClassicalRegister(2,'c')  \n",
    "backend = provider.get_backend('ibmq_qasm_simulator') \n",
    "circuit = QuantumCircuit(q,c)   \n",
    "print('Provider: ',backend)  \n",
    "    \n",
    "circuit.h(q[0]) # Hadamard gate applied to q0 \n",
    "circuit.cx(q[0],q[1]) # CNOT gate applied \n",
    "circuit.cx(q[0],q[1])  \n",
    "circuit.h(q[0])    \n",
    "circuit.measure(q,c) # Qubits measured   \n",
    "# circuit.draw(output='mpl')   \n",
    "job = execute(circuit, backend, shots=10)                                 \n",
    "print('Executing Job...\\n')                \n",
    "job_monitor(job) \n",
    "counts = job.result().get_counts()  \n",
    "print('RESULT: ',counts,'\\n')  \n",
    "# print(circuit.draw(output='mpl'))\n",
    "\n",
    "\n",
    "circuit.draw(output='mpl')"
   ]
  },
  {
   "cell_type": "code",
   "execution_count": 11,
   "metadata": {},
   "outputs": [
    {
     "name": "stdout",
     "output_type": "stream",
     "text": [
      "\n",
      " Superdense Coding\n",
      "--------------------------\n",
      "\n",
      "Provider:  ibmq_qasm_simulator\n",
      "Executing Job...\n",
      "\n",
      "Job Status: job has successfully run\n",
      "RESULT:  {'10': 10} \n",
      "\n"
     ]
    },
    {
     "data": {
      "image/png": "[encoded data removed]",
      "text/plain": [
       "<Figure size 621.739x284.278 with 1 Axes>"
      ]
     },
     "execution_count": 11,
     "metadata": {},
     "output_type": "execute_result"
    }
   ],
   "source": [
    "print('\\n Superdense Coding') \n",
    "print('--------------------------\\n')  \n",
    "from qiskit import QuantumRegister, ClassicalRegister, QuantumCircuit, execute,IBMQ \n",
    "from qiskit.tools.monitor import job_monitor  \n",
    "# from qiskit.tools.visualization import plot_bloch_multivector, plot_histogram\n",
    "import matplotlib.pyplot as plt\n",
    "provider = IBMQ.get_provider(hub='ibm-q')  \n",
    "q = QuantumRegister(2,'q') \n",
    "c = ClassicalRegister(2,'c')  \n",
    "backend = provider.get_backend('ibmq_qasm_simulator') \n",
    "circuit = QuantumCircuit(q,c)   \n",
    "print('Provider: ',backend)  \n",
    "\n",
    "circuit.h(q[0]) \n",
    "circuit.cx(q[0],q[1]) \n",
    "circuit.x(q[0]) # X-gate applied \n",
    "circuit.cx(q[0],q[1]) \n",
    "circuit.h(q[0])  \n",
    "circuit.measure(q,c)         \n",
    "print('Executing Job...\\n')\n",
    "job = execute(circuit, backend, shots=10)                                                    \n",
    "job_monitor(job) \n",
    "counts = job.result().get_counts()  \n",
    "print('RESULT: ',counts,'\\n')  \n",
    "\n",
    "    \n",
    "circuit.draw(output='mpl')"
   ]
  },
  {
   "cell_type": "code",
   "execution_count": 12,
   "metadata": {},
   "outputs": [
    {
     "name": "stdout",
     "output_type": "stream",
     "text": [
      "\n",
      " Superdense Coding\n",
      "--------------------------\n",
      "\n",
      "Provider:  ibmq_qasm_simulator\n",
      "Executing Job...\n",
      "\n",
      "Job Status: job has successfully run\n",
      "RESULT:  {'01': 10} \n",
      "\n"
     ]
    },
    {
     "data": {
      "image/png": "[encoded data removed]",
      "text/plain": [
       "<Figure size 621.739x284.278 with 1 Axes>"
      ]
     },
     "execution_count": 12,
     "metadata": {},
     "output_type": "execute_result"
    }
   ],
   "source": [
    "print('\\n Superdense Coding') \n",
    "print('--------------------------\\n')  \n",
    "from qiskit import QuantumRegister, ClassicalRegister, QuantumCircuit, execute,IBMQ \n",
    "from qiskit.tools.monitor import job_monitor  \n",
    "# from qiskit.tools.visualization import plot_bloch_multivector, plot_histogram\n",
    "import matplotlib.pyplot as plt\n",
    "IBMQ.enable_account('8d9fd4cfb1139b39e920a5e17a2d932dcf89a73f3c9441d31cf617139f3cb47ac4eb912c2ada92145a2c9bef7d5c22ca825b5cbe3a6590b599bbce8872f1d216')\n",
    "provider = IBMQ.get_provider(hub='ibm-q')  \n",
    "q = QuantumRegister(2,'q') \n",
    "c = ClassicalRegister(2,'c')  \n",
    "backend = provider.get_backend('ibmq_qasm_simulator') \n",
    "circuit = QuantumCircuit(q,c)   \n",
    "print('Provider: ',backend)  \n",
    "\n",
    "\n",
    "# elif val == '10':\n",
    "    ################## 01 ########################### \n",
    "# circuit = QuantumCircuit(q,c)   \n",
    "circuit.h(q[0]) \n",
    "circuit.cx(q[0],q[1]) \n",
    "circuit.z(q[0]) # Z-gate applied to q0  \n",
    "circuit.cx(q[0],q[1]) \n",
    "circuit.h(q[0])  \n",
    "circuit.measure(q,c)        \n",
    "job = execute(circuit, backend, shots=10)\n",
    "print('Executing Job...\\n')                \n",
    "job_monitor(job) \n",
    "counts = job.result().get_counts()  \n",
    "print('RESULT: ',counts,'\\n')  \n",
    "    # print(circuit.draw(output='mpl'))\n",
    "\n",
    "circuit.draw(output='mpl')"
   ]
  },
  {
   "cell_type": "code",
   "execution_count": 13,
   "metadata": {},
   "outputs": [
    {
     "name": "stdout",
     "output_type": "stream",
     "text": [
      "\n",
      " Superdense Coding\n",
      "--------------------------\n",
      "\n",
      "Provider:  ibmq_qasm_simulator\n",
      "Executing Job...\n",
      "\n",
      "Job Status: job has successfully run\n",
      "RESULT:  {'11': 10} \n",
      "\n"
     ]
    },
    {
     "data": {
      "image/png": "[encoded data removed]",
      "text/plain": [
       "<Figure size 705.35x284.278 with 1 Axes>"
      ]
     },
     "execution_count": 13,
     "metadata": {},
     "output_type": "execute_result"
    }
   ],
   "source": [
    "print('\\n Superdense Coding') \n",
    "print('--------------------------\\n')  \n",
    "from qiskit import QuantumRegister, ClassicalRegister, QuantumCircuit, execute,IBMQ \n",
    "from qiskit.tools.monitor import job_monitor  \n",
    "# from qiskit.tools.visualization import plot_bloch_multivector, plot_histogram\n",
    "import matplotlib.pyplot as plt\n",
    "provider = IBMQ.get_provider(hub='ibm-q')  \n",
    "q = QuantumRegister(2,'q') \n",
    "c = ClassicalRegister(2,'c')  \n",
    "backend = provider.get_backend('ibmq_qasm_simulator') \n",
    "circuit = QuantumCircuit(q,c)   \n",
    "print('Provider: ',backend)  \n",
    "\n",
    "circuit.h(q[0]) \n",
    "circuit.cx(q[0],q[1]) \n",
    "circuit.z(q[0]) # Z-gate applied  \n",
    "circuit.x(q[0]) # X-gate applied  \n",
    "circuit.cx(q[0],q[1]) \n",
    "circuit.h(q[0])  \n",
    "circuit.measure(q,c)  \n",
    "job = execute(circuit, backend, shots=10)                                 \n",
    "print('Executing Job...\\n')                \n",
    "job_monitor(job) \n",
    "counts = job.result().get_counts()  \n",
    "print('RESULT: ',counts,'\\n') \n",
    "    # print(circuit.draw(output='mpl'))\n",
    "\n",
    "circuit.draw(output='mpl')"
   ]
  },
  {
   "cell_type": "code",
   "execution_count": 6,
   "metadata": {},
   "outputs": [
    {
     "name": "stdout",
     "output_type": "stream",
     "text": [
      "\n",
      " Superdense Coding\n",
      "--------------------------\n",
      "\n",
      "Provider:  ibmq_qasm_simulator\n",
      "Executing Job...\n",
      "\n",
      "Job Status: job has successfully run\n",
      "RESULT:  {'00': 10} \n",
      "\n",
      "Executing Job...\n",
      "\n",
      "Job Status: job has successfully run\n",
      "RESULT:  {'10': 10} \n",
      "\n",
      "Executing Job...\n",
      "\n",
      "Job Status: job has successfully run\n",
      "RESULT:  {'11': 10} \n",
      "\n",
      "Executing Job...\n",
      "\n",
      "Job Status: job has successfully run\n",
      "RESULT:  {'00': 10} \n",
      "\n",
      "Press any key to close\n"
     ]
    }
   ],
   "source": [
    "print('\\n Superdense Coding') \n",
    "print('--------------------------\\n')  \n",
    "from qiskit import QuantumRegister, ClassicalRegister, QuantumCircuit, execute,IBMQ \n",
    "from qiskit.tools.monitor import job_monitor  \n",
    "# from qiskit.tools.visualization import plot_bloch_multivector, plot_histogram\n",
    "import matplotlib.pyplot as plt\n",
    "# IBMQ.enable_account('8d9fd4cfb1139b39e920a5e17a2d932dcf89a73f3c9441d31cf617139f3cb47ac4eb912c2ada92145a2c9bef7d5c22ca825b5cbe3a6590b599bbce8872f1d216')\n",
    "provider = IBMQ.get_provider(hub='ibm-q')  \n",
    "q = QuantumRegister(2,'q') \n",
    "c = ClassicalRegister(2,'c')  \n",
    "backend = provider.get_backend('ibmq_qasm_simulator') \n",
    "circuit = QuantumCircuit(q,c)   \n",
    "print('Provider: ',backend)  \n",
    "################### 00 ########################### \n",
    "\n",
    "circuit.h(q[0]) # Hadamard gate applied to q0 \n",
    "circuit.cx(q[0],q[1]) # CNOT gate applied \n",
    "circuit.cx(q[0],q[1])  \n",
    "circuit.h(q[0])    \n",
    "circuit.measure(q,c) # Qubits measured   \n",
    "# circuit.draw(output='mpl')   \n",
    "job = execute(circuit, backend, shots=10)                                 \n",
    "print('Executing Job...\\n')                \n",
    "job_monitor(job) \n",
    "counts = job.result().get_counts()  \n",
    "print('RESULT: ',counts,'\\n')  \n",
    "# print(circuit.draw(output='mpl'))\n",
    "# plt.show()\n",
    "\n",
    "################### 10 ########################### \n",
    "# circuit = QuantumCircuit(q,c)   \n",
    "circuit.h(q[0]) \n",
    "circuit.cx(q[0],q[1]) \n",
    "circuit.x(q[0]) # X-gate applied \n",
    "circuit.cx(q[0],q[1]) \n",
    "circuit.h(q[0])  \n",
    "circuit.measure(q,c)         \n",
    "print('Executing Job...\\n')\n",
    "job = execute(circuit, backend, shots=10)                                                    \n",
    "job_monitor(job) \n",
    "counts = job.result().get_counts()  \n",
    "print('RESULT: ',counts,'\\n')  \n",
    "# print(circuit.draw(output='mpl'))\n",
    "\n",
    "################## 01 ########################### \n",
    "# circuit = QuantumCircuit(q,c)   \n",
    "circuit.h(q[0]) \n",
    "circuit.cx(q[0],q[1]) \n",
    "circuit.z(q[0]) # Z-gate applied to q0  \n",
    "circuit.cx(q[0],q[1]) \n",
    "circuit.h(q[0])  \n",
    "circuit.measure(q,c)        \n",
    "job = execute(circuit, backend, shots=10)\n",
    "print('Executing Job...\\n')                \n",
    "job_monitor(job) \n",
    "counts = job.result().get_counts()  \n",
    "print('RESULT: ',counts,'\\n')  \n",
    "# print(circuit.draw(output='mpl'))\n",
    "\n",
    "\n",
    "#################### 11 ########################### \n",
    "# circuit = QuantumCircuit(q,c)   \n",
    "circuit.h(q[0]) \n",
    "circuit.cx(q[0],q[1]) \n",
    "circuit.z(q[0]) # Z-gate applied  \n",
    "circuit.x(q[0]) # X-gate applied  \n",
    "circuit.cx(q[0],q[1]) \n",
    "circuit.h(q[0])  \n",
    "circuit.measure(q,c)  \n",
    "job = execute(circuit, backend, shots=10)                                 \n",
    "print('Executing Job...\\n')                \n",
    "job_monitor(job) \n",
    "counts = job.result().get_counts()  \n",
    "print('RESULT: ',counts,'\\n') \n",
    "print('Press any key to close') "
   ]
  },
  {
   "cell_type": "code",
   "execution_count": null,
   "metadata": {},
   "outputs": [],
   "source": [
    "print('\\n Superdense Coding') print('--------------------------\\n')  from qiskit import QuantumRegister, ClassicalRegister, QuantumCircuit, execute,IBMQ from qiskit.tools.monitor import job_monitor  IBMQ.enable_account('ENTER API TOKEN') provider = IBMQ.get_provider(hub='ibm-q')  q = QuantumRegister(2,'q') c = ClassicalRegister(2,'c')  backend = provider.get_backend('ibmq_qasm_simulator') print('Provider: ',backend)  #################### 00 ########################### circuit = QuantumCircuit(q,c)   circuit.h(q[0]) # Hadamard gate applied to q0 circuit.cx(q[0],q[1]) # CNOT gate applied circuit.cx(q[0],q[1])  circuit.h(q[0])    circuit.measure(q,c) # Qubits measured      job = execute(circuit, backend, shots=10)                                 print('Executing Job...\\n')                job_monitor(job) counts = job.result().get_counts()  print('RESULT: ',counts,'\\n')  #################### 10 ########################### circuit = QuantumCircuit(q,c)   circuit.h(q[0]) circuit.cx(q[0],q[1]) circuit.x(q[0]) # X-gate applied circuit.cx(q[0],q[1]) circuit.h(q[0])  circuit.measure(q,c)         job = execute(circuit, backend, shots=10)                                 print('Executing Job...\\n')                   job_monitor(job) counts = job.result().get_counts()  print('RESULT: ',counts,'\\n')  #################### 01 ########################### circuit = QuantumCircuit(q,c)   circuit.h(q[0]) circuit.cx(q[0],q[1]) circuit.z(q[0]) # Z-gate applied to q0  circuit.cx(q[0],q[1]) circuit.h(q[0])  circuit.measure(q,c)        job = execute(circuit, backend, shots=10)                                 print('Executing Job...\\n')                job_monitor(job) counts = job.result().get_counts()  print('RESULT: ',counts,'\\n')  #################### 11 ########################### circuit = QuantumCircuit(q,c)   circuit.h(q[0]) circuit.cx(q[0],q[1]) circuit.z(q[0]) # Z-gate applied  circuit.x(q[0]) # X-gate applied  circuit.cx(q[0],q[1]) circuit.h(q[0])  circuit.measure(q,c)  job = execute(circuit, backend, shots=10)                                 print('Executing Job...\\n')                job_monitor(job) counts = job.result().get_counts()  print('RESULT: ',counts,'\\n') print('Press any key to close') input()"
   ]
  }
 ],
 "metadata": {
  "kernelspec": {
   "display_name": "quantum",
   "language": "python",
   "name": "python3"
  },
  "language_info": {
   "codemirror_mode": {
    "name": "ipython",
    "version": 3
   },
   "file_extension": ".py",
   "mimetype": "text/x-python",
   "name": "python",
   "nbconvert_exporter": "python",
   "pygments_lexer": "ipython3",
   "version": "3.11.0"
  }
 },
 "nbformat": 4,
 "nbformat_minor": 2
}
